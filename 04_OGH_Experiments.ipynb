{
 "cells": [
  {
   "cell_type": "code",
   "execution_count": 1,
   "source": [
    "from utils import training, data\n",
    "from utils.one_hot_graph import OneHotConv, OneHotGraph\n",
    "from utils.baselines import OneHotGraph_Baseline\n",
    "import torch\n",
    "from torch.utils.tensorboard import SummaryWriter\n",
    "from main import main\n"
   ],
   "outputs": [],
   "metadata": {}
  },
  {
   "cell_type": "code",
   "execution_count": 2,
   "source": [
    "input_channels = 5\n",
    "x_size = 10"
   ],
   "outputs": [],
   "metadata": {}
  },
  {
   "cell_type": "code",
   "execution_count": 3,
   "source": [
    "main(\n",
    "    \"ohgconvtryout_2\",\n",
    "    configs=5,\n",
    "    architecture=\"ohg\",\n",
    "    device = \"cuda\",\n",
    "    epochs=50,\n",
    "    yaml_file=\"grid_ohg.yml\"\n",
    ")"
   ],
   "outputs": [
    {
     "output_type": "stream",
     "name": "stdout",
     "text": [
      "Total number of Grid-Search configurations: 31104\n",
      "Number of configurations now being trained 5\n",
      "--------------------------------------------------------------------------------------------\n",
      "\n",
      "Training config _hiddenchannels-1028_headdepth-3_basedepth-3_basedropout-0.5_headdropout-0.2_lr-0.001_weightdecay-1e-08_batchsize-256_heads-1_onehotchannels-16_onehotmode-conv_onehotattention-False ... "
     ]
    }
   ],
   "metadata": {}
  },
  {
   "cell_type": "code",
   "execution_count": null,
   "source": [],
   "outputs": [],
   "metadata": {}
  }
 ],
 "metadata": {
  "orig_nbformat": 4,
  "language_info": {
   "name": "python",
   "version": "3.9.6",
   "mimetype": "text/x-python",
   "codemirror_mode": {
    "name": "ipython",
    "version": 3
   },
   "pygments_lexer": "ipython3",
   "nbconvert_exporter": "python",
   "file_extension": ".py"
  },
  "kernelspec": {
   "name": "python3",
   "display_name": "Python 3.9.6 64-bit ('ohg': conda)"
  },
  "interpreter": {
   "hash": "70fe7228592cc26bed22485915261bc09ab237a426fde32fcd3cbc0f918f2ec6"
  }
 },
 "nbformat": 4,
 "nbformat_minor": 2
}