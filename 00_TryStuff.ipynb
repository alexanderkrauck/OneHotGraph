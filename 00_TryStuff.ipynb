{
 "cells": [
  {
   "cell_type": "code",
   "execution_count": 7,
   "source": [
    "#TODO: make this nicer\r\n",
    "path = \"data\\\\tox21_original\\\\tox21.sdf\"\r\n",
    "\r\n",
    "from rdkit import Chem\r\n",
    "import pandas as pd\r\n",
    "data_molecules = Chem.SDMolSupplier(path)\r\n",
    "\r\n",
    "info_file = pd.read_csv(\"data\\\\tox21_original\\\\tox21_compoundData.csv\", sep=\",\", header=0)\r\n",
    "\r\n",
    "targets = info_file.to_numpy()[:, -12:]\r\n",
    "ids = info_file[\"ID\"].to_numpy()\r\n",
    "to_del = []\r\n",
    "with open(\"file.csv\", mode = \"w\") as fi:\r\n",
    "    fi.write(\"NR-AR,NR-AR-LBD,NR-AhR,NR-Aromatase,NR-ER,NR-ER-LBD,NR-PPAR-gamma,SR-ARE,SR-ATAD5,SR-HSE,SR-MMP,SR-p53,mol_id,smiles\\n\")\r\n",
    "\r\n",
    "    for mol, target, i, infofile in zip(data_molecules, targets, ids, range(len(info_file))):\r\n",
    "        try:\r\n",
    "            smiles = Chem.MolToSmiles(mol)\r\n",
    "            #fi.write(\",\".join([str(int(t)) if str(t)!=\"nan\" else \"\" for t in target]) + \",\" + i + \",\" + smiles + \"\\n\")\r\n",
    "        except BaseException:\r\n",
    "            to_del.append(infofile)\r\n"
   ],
   "outputs": [],
   "metadata": {}
  },
  {
   "cell_type": "code",
   "execution_count": 1,
   "source": [],
   "outputs": [],
   "metadata": {}
  },
  {
   "cell_type": "code",
   "execution_count": null,
   "source": [],
   "outputs": [],
   "metadata": {}
  }
 ],
 "metadata": {
  "orig_nbformat": 4,
  "language_info": {
   "name": "python",
   "version": "3.8.10",
   "mimetype": "text/x-python",
   "codemirror_mode": {
    "name": "ipython",
    "version": 3
   },
   "pygments_lexer": "ipython3",
   "nbconvert_exporter": "python",
   "file_extension": ".py"
  },
  "kernelspec": {
   "name": "python3",
   "display_name": "Python 3.8.10 64-bit ('ohg': conda)"
  },
  "interpreter": {
   "hash": "a973c368015e0ac2b41d464c33143b64f1c4b6010c6cffead0cdd62362b8fcf3"
  }
 },
 "nbformat": 4,
 "nbformat_minor": 2
}